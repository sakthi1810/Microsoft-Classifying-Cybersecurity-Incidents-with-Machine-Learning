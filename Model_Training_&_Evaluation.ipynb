{
  "cells": [
    {
      "cell_type": "markdown",
      "metadata": {
        "id": "9OllLngSiX_u"
      },
      "source": [
        "## Model Selection and Training on Train Data"
      ]
    },
    {
      "cell_type": "markdown",
      "metadata": {
        "id": "5M9fojVYiX_1"
      },
      "source": [
        "### Importing Required Libraries"
      ]
    },
    {
      "cell_type": "code",
      "execution_count": null,
      "metadata": {
        "id": "a3q29vNRz8H0"
      },
      "outputs": [],
      "source": [
        "!pip install xgboost\n",
        "!pip install lightgbm\n",
        "!pip install imblearn\n",
        "!pip install shap"
      ]
    },
    {
      "cell_type": "code",
      "execution_count": 4,
      "metadata": {
        "id": "PHXevzcpiX_2"
      },
      "outputs": [],
      "source": [
        "import pandas as pd\n",
        "from sklearn.model_selection import train_test_split\n",
        "from sklearn.linear_model import LogisticRegression\n",
        "from sklearn.tree import DecisionTreeClassifier\n",
        "from sklearn.metrics import classification_report\n",
        "from sklearn.ensemble import RandomForestClassifier, GradientBoostingClassifier\n",
        "from xgboost import XGBClassifier\n",
        "from lightgbm import LGBMClassifier\n",
        "from imblearn.over_sampling import SMOTE\n",
        "from sklearn.model_selection import RandomizedSearchCV\n",
        "import shap"
      ]
    },
    {
      "cell_type": "markdown",
      "metadata": {
        "id": "T2TQ1kBbiX_5"
      },
      "source": [
        "#### Importing Processed train data"
      ]
    },
    {
      "cell_type": "code",
      "execution_count": 71,
      "metadata": {
        "colab": {
          "base_uri": "https://localhost:8080/",
          "height": 226
        },
        "id": "0de9Ow3MiX_6",
        "outputId": "93b7940d-ee6a-46ed-fd3d-fa49680437ff"
      },
      "outputs": [
        {
          "output_type": "execute_result",
          "data": {
            "text/plain": [
              "              Id  OrgId  IncidentId  AlertId  DetectorId  AlertTitle  \\\n",
              "0  1709396985476     26       18583   687462          31         813   \n",
              "1   927712939180     33        5065     3990          38          25   \n",
              "2  1090921697002    201      150787   807590         419         444   \n",
              "3  1434519079555    204      108287    28575          44        1233   \n",
              "4  1005022347708     54      528202  1458226         102       58829   \n",
              "\n",
              "   Category  IncidentGrade  EntityType  EvidenceRole  IpAddress     Url  \\\n",
              "0        12              0           9             1     360606  160396   \n",
              "1         9              0          17             0     360606  160396   \n",
              "2         6              0          17             0     360606  160396   \n",
              "3        16              2           9             1     360606  160396   \n",
              "4         7              0           9             0     360606  160396   \n",
              "\n",
              "   AccountName  DeviceName  NetworkMessageId  RegistryKey  RegistryValueData  \\\n",
              "0       453297      153085            529644         1631                860   \n",
              "1       453297        3142            529644         1631                860   \n",
              "2       453297        4181            529644         1631                860   \n",
              "3       453297      153085            529644         1631                860   \n",
              "4       453297      153085            529644         1631                860   \n",
              "\n",
              "   ApplicationName  OAuthApplicationId  FileName  ResourceIdName  OSVersion  \\\n",
              "0             3421                 881    4132.0          3586.0       66.0   \n",
              "1             3421                 881  289573.0          3586.0       66.0   \n",
              "2             3421                 881  289573.0          3586.0       66.0   \n",
              "3             3421                 881   97007.0          3586.0       66.0   \n",
              "4             3421                 881   39978.0          3586.0       66.0   \n",
              "\n",
              "      City  Day  Year   Time  Weekday  Hour  \n",
              "0  10630.0    6  2024  21406        3     5  \n",
              "1  10630.0    3  2024  38708        0    10  \n",
              "2  10630.0   13  2024  13000        3     3  \n",
              "3  10630.0    8  2024  60896        5    16  \n",
              "4  10630.0    9  2024  10081        6     2  "
            ],
            "text/html": [
              "\n",
              "  <div id=\"df-abcaf2a6-991c-485e-9dc3-fff00a2c488b\" class=\"colab-df-container\">\n",
              "    <div>\n",
              "<style scoped>\n",
              "    .dataframe tbody tr th:only-of-type {\n",
              "        vertical-align: middle;\n",
              "    }\n",
              "\n",
              "    .dataframe tbody tr th {\n",
              "        vertical-align: top;\n",
              "    }\n",
              "\n",
              "    .dataframe thead th {\n",
              "        text-align: right;\n",
              "    }\n",
              "</style>\n",
              "<table border=\"1\" class=\"dataframe\">\n",
              "  <thead>\n",
              "    <tr style=\"text-align: right;\">\n",
              "      <th></th>\n",
              "      <th>Id</th>\n",
              "      <th>OrgId</th>\n",
              "      <th>IncidentId</th>\n",
              "      <th>AlertId</th>\n",
              "      <th>DetectorId</th>\n",
              "      <th>AlertTitle</th>\n",
              "      <th>Category</th>\n",
              "      <th>IncidentGrade</th>\n",
              "      <th>EntityType</th>\n",
              "      <th>EvidenceRole</th>\n",
              "      <th>IpAddress</th>\n",
              "      <th>Url</th>\n",
              "      <th>AccountName</th>\n",
              "      <th>DeviceName</th>\n",
              "      <th>NetworkMessageId</th>\n",
              "      <th>RegistryKey</th>\n",
              "      <th>RegistryValueData</th>\n",
              "      <th>ApplicationName</th>\n",
              "      <th>OAuthApplicationId</th>\n",
              "      <th>FileName</th>\n",
              "      <th>ResourceIdName</th>\n",
              "      <th>OSVersion</th>\n",
              "      <th>City</th>\n",
              "      <th>Day</th>\n",
              "      <th>Year</th>\n",
              "      <th>Time</th>\n",
              "      <th>Weekday</th>\n",
              "      <th>Hour</th>\n",
              "    </tr>\n",
              "  </thead>\n",
              "  <tbody>\n",
              "    <tr>\n",
              "      <th>0</th>\n",
              "      <td>1709396985476</td>\n",
              "      <td>26</td>\n",
              "      <td>18583</td>\n",
              "      <td>687462</td>\n",
              "      <td>31</td>\n",
              "      <td>813</td>\n",
              "      <td>12</td>\n",
              "      <td>0</td>\n",
              "      <td>9</td>\n",
              "      <td>1</td>\n",
              "      <td>360606</td>\n",
              "      <td>160396</td>\n",
              "      <td>453297</td>\n",
              "      <td>153085</td>\n",
              "      <td>529644</td>\n",
              "      <td>1631</td>\n",
              "      <td>860</td>\n",
              "      <td>3421</td>\n",
              "      <td>881</td>\n",
              "      <td>4132.0</td>\n",
              "      <td>3586.0</td>\n",
              "      <td>66.0</td>\n",
              "      <td>10630.0</td>\n",
              "      <td>6</td>\n",
              "      <td>2024</td>\n",
              "      <td>21406</td>\n",
              "      <td>3</td>\n",
              "      <td>5</td>\n",
              "    </tr>\n",
              "    <tr>\n",
              "      <th>1</th>\n",
              "      <td>927712939180</td>\n",
              "      <td>33</td>\n",
              "      <td>5065</td>\n",
              "      <td>3990</td>\n",
              "      <td>38</td>\n",
              "      <td>25</td>\n",
              "      <td>9</td>\n",
              "      <td>0</td>\n",
              "      <td>17</td>\n",
              "      <td>0</td>\n",
              "      <td>360606</td>\n",
              "      <td>160396</td>\n",
              "      <td>453297</td>\n",
              "      <td>3142</td>\n",
              "      <td>529644</td>\n",
              "      <td>1631</td>\n",
              "      <td>860</td>\n",
              "      <td>3421</td>\n",
              "      <td>881</td>\n",
              "      <td>289573.0</td>\n",
              "      <td>3586.0</td>\n",
              "      <td>66.0</td>\n",
              "      <td>10630.0</td>\n",
              "      <td>3</td>\n",
              "      <td>2024</td>\n",
              "      <td>38708</td>\n",
              "      <td>0</td>\n",
              "      <td>10</td>\n",
              "    </tr>\n",
              "    <tr>\n",
              "      <th>2</th>\n",
              "      <td>1090921697002</td>\n",
              "      <td>201</td>\n",
              "      <td>150787</td>\n",
              "      <td>807590</td>\n",
              "      <td>419</td>\n",
              "      <td>444</td>\n",
              "      <td>6</td>\n",
              "      <td>0</td>\n",
              "      <td>17</td>\n",
              "      <td>0</td>\n",
              "      <td>360606</td>\n",
              "      <td>160396</td>\n",
              "      <td>453297</td>\n",
              "      <td>4181</td>\n",
              "      <td>529644</td>\n",
              "      <td>1631</td>\n",
              "      <td>860</td>\n",
              "      <td>3421</td>\n",
              "      <td>881</td>\n",
              "      <td>289573.0</td>\n",
              "      <td>3586.0</td>\n",
              "      <td>66.0</td>\n",
              "      <td>10630.0</td>\n",
              "      <td>13</td>\n",
              "      <td>2024</td>\n",
              "      <td>13000</td>\n",
              "      <td>3</td>\n",
              "      <td>3</td>\n",
              "    </tr>\n",
              "    <tr>\n",
              "      <th>3</th>\n",
              "      <td>1434519079555</td>\n",
              "      <td>204</td>\n",
              "      <td>108287</td>\n",
              "      <td>28575</td>\n",
              "      <td>44</td>\n",
              "      <td>1233</td>\n",
              "      <td>16</td>\n",
              "      <td>2</td>\n",
              "      <td>9</td>\n",
              "      <td>1</td>\n",
              "      <td>360606</td>\n",
              "      <td>160396</td>\n",
              "      <td>453297</td>\n",
              "      <td>153085</td>\n",
              "      <td>529644</td>\n",
              "      <td>1631</td>\n",
              "      <td>860</td>\n",
              "      <td>3421</td>\n",
              "      <td>881</td>\n",
              "      <td>97007.0</td>\n",
              "      <td>3586.0</td>\n",
              "      <td>66.0</td>\n",
              "      <td>10630.0</td>\n",
              "      <td>8</td>\n",
              "      <td>2024</td>\n",
              "      <td>60896</td>\n",
              "      <td>5</td>\n",
              "      <td>16</td>\n",
              "    </tr>\n",
              "    <tr>\n",
              "      <th>4</th>\n",
              "      <td>1005022347708</td>\n",
              "      <td>54</td>\n",
              "      <td>528202</td>\n",
              "      <td>1458226</td>\n",
              "      <td>102</td>\n",
              "      <td>58829</td>\n",
              "      <td>7</td>\n",
              "      <td>0</td>\n",
              "      <td>9</td>\n",
              "      <td>0</td>\n",
              "      <td>360606</td>\n",
              "      <td>160396</td>\n",
              "      <td>453297</td>\n",
              "      <td>153085</td>\n",
              "      <td>529644</td>\n",
              "      <td>1631</td>\n",
              "      <td>860</td>\n",
              "      <td>3421</td>\n",
              "      <td>881</td>\n",
              "      <td>39978.0</td>\n",
              "      <td>3586.0</td>\n",
              "      <td>66.0</td>\n",
              "      <td>10630.0</td>\n",
              "      <td>9</td>\n",
              "      <td>2024</td>\n",
              "      <td>10081</td>\n",
              "      <td>6</td>\n",
              "      <td>2</td>\n",
              "    </tr>\n",
              "  </tbody>\n",
              "</table>\n",
              "</div>\n",
              "    <div class=\"colab-df-buttons\">\n",
              "\n",
              "  <div class=\"colab-df-container\">\n",
              "    <button class=\"colab-df-convert\" onclick=\"convertToInteractive('df-abcaf2a6-991c-485e-9dc3-fff00a2c488b')\"\n",
              "            title=\"Convert this dataframe to an interactive table.\"\n",
              "            style=\"display:none;\">\n",
              "\n",
              "  <svg xmlns=\"http://www.w3.org/2000/svg\" height=\"24px\" viewBox=\"0 -960 960 960\">\n",
              "    <path d=\"M120-120v-720h720v720H120Zm60-500h600v-160H180v160Zm220 220h160v-160H400v160Zm0 220h160v-160H400v160ZM180-400h160v-160H180v160Zm440 0h160v-160H620v160ZM180-180h160v-160H180v160Zm440 0h160v-160H620v160Z\"/>\n",
              "  </svg>\n",
              "    </button>\n",
              "\n",
              "  <style>\n",
              "    .colab-df-container {\n",
              "      display:flex;\n",
              "      gap: 12px;\n",
              "    }\n",
              "\n",
              "    .colab-df-convert {\n",
              "      background-color: #E8F0FE;\n",
              "      border: none;\n",
              "      border-radius: 50%;\n",
              "      cursor: pointer;\n",
              "      display: none;\n",
              "      fill: #1967D2;\n",
              "      height: 32px;\n",
              "      padding: 0 0 0 0;\n",
              "      width: 32px;\n",
              "    }\n",
              "\n",
              "    .colab-df-convert:hover {\n",
              "      background-color: #E2EBFA;\n",
              "      box-shadow: 0px 1px 2px rgba(60, 64, 67, 0.3), 0px 1px 3px 1px rgba(60, 64, 67, 0.15);\n",
              "      fill: #174EA6;\n",
              "    }\n",
              "\n",
              "    .colab-df-buttons div {\n",
              "      margin-bottom: 4px;\n",
              "    }\n",
              "\n",
              "    [theme=dark] .colab-df-convert {\n",
              "      background-color: #3B4455;\n",
              "      fill: #D2E3FC;\n",
              "    }\n",
              "\n",
              "    [theme=dark] .colab-df-convert:hover {\n",
              "      background-color: #434B5C;\n",
              "      box-shadow: 0px 1px 3px 1px rgba(0, 0, 0, 0.15);\n",
              "      filter: drop-shadow(0px 1px 2px rgba(0, 0, 0, 0.3));\n",
              "      fill: #FFFFFF;\n",
              "    }\n",
              "  </style>\n",
              "\n",
              "    <script>\n",
              "      const buttonEl =\n",
              "        document.querySelector('#df-abcaf2a6-991c-485e-9dc3-fff00a2c488b button.colab-df-convert');\n",
              "      buttonEl.style.display =\n",
              "        google.colab.kernel.accessAllowed ? 'block' : 'none';\n",
              "\n",
              "      async function convertToInteractive(key) {\n",
              "        const element = document.querySelector('#df-abcaf2a6-991c-485e-9dc3-fff00a2c488b');\n",
              "        const dataTable =\n",
              "          await google.colab.kernel.invokeFunction('convertToInteractive',\n",
              "                                                    [key], {});\n",
              "        if (!dataTable) return;\n",
              "\n",
              "        const docLinkHtml = 'Like what you see? Visit the ' +\n",
              "          '<a target=\"_blank\" href=https://colab.research.google.com/notebooks/data_table.ipynb>data table notebook</a>'\n",
              "          + ' to learn more about interactive tables.';\n",
              "        element.innerHTML = '';\n",
              "        dataTable['output_type'] = 'display_data';\n",
              "        await google.colab.output.renderOutput(dataTable, element);\n",
              "        const docLink = document.createElement('div');\n",
              "        docLink.innerHTML = docLinkHtml;\n",
              "        element.appendChild(docLink);\n",
              "      }\n",
              "    </script>\n",
              "  </div>\n",
              "\n",
              "\n",
              "<div id=\"df-31114caf-4cc7-4efb-be1f-f0d729584480\">\n",
              "  <button class=\"colab-df-quickchart\" onclick=\"quickchart('df-31114caf-4cc7-4efb-be1f-f0d729584480')\"\n",
              "            title=\"Suggest charts\"\n",
              "            style=\"display:none;\">\n",
              "\n",
              "<svg xmlns=\"http://www.w3.org/2000/svg\" height=\"24px\"viewBox=\"0 0 24 24\"\n",
              "     width=\"24px\">\n",
              "    <g>\n",
              "        <path d=\"M19 3H5c-1.1 0-2 .9-2 2v14c0 1.1.9 2 2 2h14c1.1 0 2-.9 2-2V5c0-1.1-.9-2-2-2zM9 17H7v-7h2v7zm4 0h-2V7h2v10zm4 0h-2v-4h2v4z\"/>\n",
              "    </g>\n",
              "</svg>\n",
              "  </button>\n",
              "\n",
              "<style>\n",
              "  .colab-df-quickchart {\n",
              "      --bg-color: #E8F0FE;\n",
              "      --fill-color: #1967D2;\n",
              "      --hover-bg-color: #E2EBFA;\n",
              "      --hover-fill-color: #174EA6;\n",
              "      --disabled-fill-color: #AAA;\n",
              "      --disabled-bg-color: #DDD;\n",
              "  }\n",
              "\n",
              "  [theme=dark] .colab-df-quickchart {\n",
              "      --bg-color: #3B4455;\n",
              "      --fill-color: #D2E3FC;\n",
              "      --hover-bg-color: #434B5C;\n",
              "      --hover-fill-color: #FFFFFF;\n",
              "      --disabled-bg-color: #3B4455;\n",
              "      --disabled-fill-color: #666;\n",
              "  }\n",
              "\n",
              "  .colab-df-quickchart {\n",
              "    background-color: var(--bg-color);\n",
              "    border: none;\n",
              "    border-radius: 50%;\n",
              "    cursor: pointer;\n",
              "    display: none;\n",
              "    fill: var(--fill-color);\n",
              "    height: 32px;\n",
              "    padding: 0;\n",
              "    width: 32px;\n",
              "  }\n",
              "\n",
              "  .colab-df-quickchart:hover {\n",
              "    background-color: var(--hover-bg-color);\n",
              "    box-shadow: 0 1px 2px rgba(60, 64, 67, 0.3), 0 1px 3px 1px rgba(60, 64, 67, 0.15);\n",
              "    fill: var(--button-hover-fill-color);\n",
              "  }\n",
              "\n",
              "  .colab-df-quickchart-complete:disabled,\n",
              "  .colab-df-quickchart-complete:disabled:hover {\n",
              "    background-color: var(--disabled-bg-color);\n",
              "    fill: var(--disabled-fill-color);\n",
              "    box-shadow: none;\n",
              "  }\n",
              "\n",
              "  .colab-df-spinner {\n",
              "    border: 2px solid var(--fill-color);\n",
              "    border-color: transparent;\n",
              "    border-bottom-color: var(--fill-color);\n",
              "    animation:\n",
              "      spin 1s steps(1) infinite;\n",
              "  }\n",
              "\n",
              "  @keyframes spin {\n",
              "    0% {\n",
              "      border-color: transparent;\n",
              "      border-bottom-color: var(--fill-color);\n",
              "      border-left-color: var(--fill-color);\n",
              "    }\n",
              "    20% {\n",
              "      border-color: transparent;\n",
              "      border-left-color: var(--fill-color);\n",
              "      border-top-color: var(--fill-color);\n",
              "    }\n",
              "    30% {\n",
              "      border-color: transparent;\n",
              "      border-left-color: var(--fill-color);\n",
              "      border-top-color: var(--fill-color);\n",
              "      border-right-color: var(--fill-color);\n",
              "    }\n",
              "    40% {\n",
              "      border-color: transparent;\n",
              "      border-right-color: var(--fill-color);\n",
              "      border-top-color: var(--fill-color);\n",
              "    }\n",
              "    60% {\n",
              "      border-color: transparent;\n",
              "      border-right-color: var(--fill-color);\n",
              "    }\n",
              "    80% {\n",
              "      border-color: transparent;\n",
              "      border-right-color: var(--fill-color);\n",
              "      border-bottom-color: var(--fill-color);\n",
              "    }\n",
              "    90% {\n",
              "      border-color: transparent;\n",
              "      border-bottom-color: var(--fill-color);\n",
              "    }\n",
              "  }\n",
              "</style>\n",
              "\n",
              "  <script>\n",
              "    async function quickchart(key) {\n",
              "      const quickchartButtonEl =\n",
              "        document.querySelector('#' + key + ' button');\n",
              "      quickchartButtonEl.disabled = true;  // To prevent multiple clicks.\n",
              "      quickchartButtonEl.classList.add('colab-df-spinner');\n",
              "      try {\n",
              "        const charts = await google.colab.kernel.invokeFunction(\n",
              "            'suggestCharts', [key], {});\n",
              "      } catch (error) {\n",
              "        console.error('Error during call to suggestCharts:', error);\n",
              "      }\n",
              "      quickchartButtonEl.classList.remove('colab-df-spinner');\n",
              "      quickchartButtonEl.classList.add('colab-df-quickchart-complete');\n",
              "    }\n",
              "    (() => {\n",
              "      let quickchartButtonEl =\n",
              "        document.querySelector('#df-31114caf-4cc7-4efb-be1f-f0d729584480 button');\n",
              "      quickchartButtonEl.style.display =\n",
              "        google.colab.kernel.accessAllowed ? 'block' : 'none';\n",
              "    })();\n",
              "  </script>\n",
              "</div>\n",
              "\n",
              "    </div>\n",
              "  </div>\n"
            ],
            "application/vnd.google.colaboratory.intrinsic+json": {
              "type": "dataframe",
              "variable_name": "traindata"
            }
          },
          "metadata": {},
          "execution_count": 71
        }
      ],
      "source": [
        "#importing processed train data\n",
        "traindata = pd.read_csv('/content/traindata_processed.xls')\n",
        "pd.set_option('display.max_columns', None)\n",
        "traindata.head()"
      ]
    },
    {
      "cell_type": "code",
      "execution_count": 72,
      "metadata": {
        "colab": {
          "base_uri": "https://localhost:8080/"
        },
        "id": "O6uJYYaqiX_9",
        "outputId": "d616f35d-4873-46d9-ff0a-0b49203a768a"
      },
      "outputs": [
        {
          "output_type": "execute_result",
          "data": {
            "text/plain": [
              "(3299972, 28)"
            ]
          },
          "metadata": {},
          "execution_count": 72
        }
      ],
      "source": [
        "traindata.shape"
      ]
    },
    {
      "cell_type": "code",
      "execution_count": 73,
      "metadata": {
        "colab": {
          "base_uri": "https://localhost:8080/",
          "height": 962
        },
        "id": "0ONs8z5DkUn4",
        "outputId": "e448ac33-6138-4248-8068-201f958f6342"
      },
      "outputs": [
        {
          "output_type": "execute_result",
          "data": {
            "text/plain": [
              "Id                    0\n",
              "OrgId                 0\n",
              "IncidentId            0\n",
              "AlertId               0\n",
              "DetectorId            0\n",
              "AlertTitle            0\n",
              "Category              0\n",
              "IncidentGrade         0\n",
              "EntityType            0\n",
              "EvidenceRole          0\n",
              "IpAddress             0\n",
              "Url                   0\n",
              "AccountName           0\n",
              "DeviceName            0\n",
              "NetworkMessageId      0\n",
              "RegistryKey           0\n",
              "RegistryValueData     0\n",
              "ApplicationName       0\n",
              "OAuthApplicationId    0\n",
              "FileName              0\n",
              "ResourceIdName        0\n",
              "OSVersion             0\n",
              "City                  0\n",
              "Day                   0\n",
              "Year                  0\n",
              "Time                  0\n",
              "Weekday               0\n",
              "Hour                  0\n",
              "dtype: int64"
            ],
            "text/html": [
              "<div>\n",
              "<style scoped>\n",
              "    .dataframe tbody tr th:only-of-type {\n",
              "        vertical-align: middle;\n",
              "    }\n",
              "\n",
              "    .dataframe tbody tr th {\n",
              "        vertical-align: top;\n",
              "    }\n",
              "\n",
              "    .dataframe thead th {\n",
              "        text-align: right;\n",
              "    }\n",
              "</style>\n",
              "<table border=\"1\" class=\"dataframe\">\n",
              "  <thead>\n",
              "    <tr style=\"text-align: right;\">\n",
              "      <th></th>\n",
              "      <th>0</th>\n",
              "    </tr>\n",
              "  </thead>\n",
              "  <tbody>\n",
              "    <tr>\n",
              "      <th>Id</th>\n",
              "      <td>0</td>\n",
              "    </tr>\n",
              "    <tr>\n",
              "      <th>OrgId</th>\n",
              "      <td>0</td>\n",
              "    </tr>\n",
              "    <tr>\n",
              "      <th>IncidentId</th>\n",
              "      <td>0</td>\n",
              "    </tr>\n",
              "    <tr>\n",
              "      <th>AlertId</th>\n",
              "      <td>0</td>\n",
              "    </tr>\n",
              "    <tr>\n",
              "      <th>DetectorId</th>\n",
              "      <td>0</td>\n",
              "    </tr>\n",
              "    <tr>\n",
              "      <th>AlertTitle</th>\n",
              "      <td>0</td>\n",
              "    </tr>\n",
              "    <tr>\n",
              "      <th>Category</th>\n",
              "      <td>0</td>\n",
              "    </tr>\n",
              "    <tr>\n",
              "      <th>IncidentGrade</th>\n",
              "      <td>0</td>\n",
              "    </tr>\n",
              "    <tr>\n",
              "      <th>EntityType</th>\n",
              "      <td>0</td>\n",
              "    </tr>\n",
              "    <tr>\n",
              "      <th>EvidenceRole</th>\n",
              "      <td>0</td>\n",
              "    </tr>\n",
              "    <tr>\n",
              "      <th>IpAddress</th>\n",
              "      <td>0</td>\n",
              "    </tr>\n",
              "    <tr>\n",
              "      <th>Url</th>\n",
              "      <td>0</td>\n",
              "    </tr>\n",
              "    <tr>\n",
              "      <th>AccountName</th>\n",
              "      <td>0</td>\n",
              "    </tr>\n",
              "    <tr>\n",
              "      <th>DeviceName</th>\n",
              "      <td>0</td>\n",
              "    </tr>\n",
              "    <tr>\n",
              "      <th>NetworkMessageId</th>\n",
              "      <td>0</td>\n",
              "    </tr>\n",
              "    <tr>\n",
              "      <th>RegistryKey</th>\n",
              "      <td>0</td>\n",
              "    </tr>\n",
              "    <tr>\n",
              "      <th>RegistryValueData</th>\n",
              "      <td>0</td>\n",
              "    </tr>\n",
              "    <tr>\n",
              "      <th>ApplicationName</th>\n",
              "      <td>0</td>\n",
              "    </tr>\n",
              "    <tr>\n",
              "      <th>OAuthApplicationId</th>\n",
              "      <td>0</td>\n",
              "    </tr>\n",
              "    <tr>\n",
              "      <th>FileName</th>\n",
              "      <td>0</td>\n",
              "    </tr>\n",
              "    <tr>\n",
              "      <th>ResourceIdName</th>\n",
              "      <td>0</td>\n",
              "    </tr>\n",
              "    <tr>\n",
              "      <th>OSVersion</th>\n",
              "      <td>0</td>\n",
              "    </tr>\n",
              "    <tr>\n",
              "      <th>City</th>\n",
              "      <td>0</td>\n",
              "    </tr>\n",
              "    <tr>\n",
              "      <th>Day</th>\n",
              "      <td>0</td>\n",
              "    </tr>\n",
              "    <tr>\n",
              "      <th>Year</th>\n",
              "      <td>0</td>\n",
              "    </tr>\n",
              "    <tr>\n",
              "      <th>Time</th>\n",
              "      <td>0</td>\n",
              "    </tr>\n",
              "    <tr>\n",
              "      <th>Weekday</th>\n",
              "      <td>0</td>\n",
              "    </tr>\n",
              "    <tr>\n",
              "      <th>Hour</th>\n",
              "      <td>0</td>\n",
              "    </tr>\n",
              "  </tbody>\n",
              "</table>\n",
              "</div><br><label><b>dtype:</b> int64</label>"
            ]
          },
          "metadata": {},
          "execution_count": 73
        }
      ],
      "source": [
        "traindata.isnull().sum()"
      ]
    },
    {
      "cell_type": "markdown",
      "metadata": {
        "id": "z2RADm_HiX_-"
      },
      "source": [
        "#### Defining features (X) and target (y)"
      ]
    },
    {
      "cell_type": "code",
      "execution_count": 74,
      "metadata": {
        "id": "9W6s_grKiX__"
      },
      "outputs": [],
      "source": [
        "x = traindata.drop(columns=['IncidentGrade','Id'])\n",
        "y = traindata['IncidentGrade'] # Target column"
      ]
    },
    {
      "cell_type": "code",
      "execution_count": 75,
      "metadata": {
        "id": "3z4pF0D1iYAA"
      },
      "outputs": [],
      "source": [
        "# Stratified train-validation split\n",
        "x_train, x_val, y_train, y_val = train_test_split(x, y, test_size=0.3, stratify=y, random_state=42)"
      ]
    },
    {
      "cell_type": "code",
      "execution_count": 76,
      "metadata": {
        "colab": {
          "base_uri": "https://localhost:8080/"
        },
        "id": "_MgXCowdiYAC",
        "outputId": "bdda6218-3761-4f0e-a97f-a7b33c3f280d"
      },
      "outputs": [
        {
          "output_type": "stream",
          "name": "stdout",
          "text": [
            "Training set class distribution:\n",
            " IncidentGrade\n",
            "0    0.431802\n",
            "2    0.351452\n",
            "1    0.216746\n",
            "Name: proportion, dtype: float64\n",
            "Validation set class distribution:\n",
            " IncidentGrade\n",
            "0    0.431802\n",
            "2    0.351452\n",
            "1    0.216745\n",
            "Name: proportion, dtype: float64\n"
          ]
        }
      ],
      "source": [
        "# Checking class distribution in training and validation sets\n",
        "print(\"Training set class distribution:\\n\", y_train.value_counts(normalize=True))\n",
        "print(\"Validation set class distribution:\\n\", y_val.value_counts(normalize=True))"
      ]
    },
    {
      "cell_type": "markdown",
      "metadata": {
        "id": "LIWu1lbqiYAD"
      },
      "source": [
        "## Model Selection and Training:"
      ]
    },
    {
      "cell_type": "markdown",
      "metadata": {
        "id": "8S5qBCUWiYAE"
      },
      "source": [
        "### Baseline Models"
      ]
    },
    {
      "cell_type": "code",
      "execution_count": 77,
      "metadata": {
        "colab": {
          "base_uri": "https://localhost:8080/"
        },
        "id": "2FrEa2VakmvK",
        "outputId": "3d4a44fe-bd10-4760-f64e-e1e5db99b9a9"
      },
      "outputs": [
        {
          "output_type": "stream",
          "name": "stdout",
          "text": [
            "<class 'pandas.core.frame.DataFrame'>\n",
            "Index: 2309980 entries, 1983754 to 206339\n",
            "Data columns (total 26 columns):\n",
            " #   Column              Dtype  \n",
            "---  ------              -----  \n",
            " 0   OrgId               int64  \n",
            " 1   IncidentId          int64  \n",
            " 2   AlertId             int64  \n",
            " 3   DetectorId          int64  \n",
            " 4   AlertTitle          int64  \n",
            " 5   Category            int64  \n",
            " 6   EntityType          int64  \n",
            " 7   EvidenceRole        int64  \n",
            " 8   IpAddress           int64  \n",
            " 9   Url                 int64  \n",
            " 10  AccountName         int64  \n",
            " 11  DeviceName          int64  \n",
            " 12  NetworkMessageId    int64  \n",
            " 13  RegistryKey         int64  \n",
            " 14  RegistryValueData   int64  \n",
            " 15  ApplicationName     int64  \n",
            " 16  OAuthApplicationId  int64  \n",
            " 17  FileName            float64\n",
            " 18  ResourceIdName      float64\n",
            " 19  OSVersion           float64\n",
            " 20  City                float64\n",
            " 21  Day                 int64  \n",
            " 22  Year                int64  \n",
            " 23  Time                int64  \n",
            " 24  Weekday             int64  \n",
            " 25  Hour                int64  \n",
            "dtypes: float64(4), int64(22)\n",
            "memory usage: 475.8 MB\n",
            "None\n"
          ]
        }
      ],
      "source": [
        "print(x_train.info())"
      ]
    },
    {
      "cell_type": "code",
      "execution_count": 78,
      "metadata": {
        "colab": {
          "base_uri": "https://localhost:8080/"
        },
        "id": "SyzBlRoqiYAF",
        "outputId": "d1141f94-d800-47a7-885a-88824e019344"
      },
      "outputs": [
        {
          "output_type": "stream",
          "name": "stdout",
          "text": [
            "\n",
            "Training Logistic Regression...\n"
          ]
        },
        {
          "output_type": "stream",
          "name": "stderr",
          "text": [
            "/usr/local/lib/python3.11/dist-packages/sklearn/linear_model/_logistic.py:465: ConvergenceWarning: lbfgs failed to converge (status=1):\n",
            "STOP: TOTAL NO. of ITERATIONS REACHED LIMIT.\n",
            "\n",
            "Increase the number of iterations (max_iter) or scale the data as shown in:\n",
            "    https://scikit-learn.org/stable/modules/preprocessing.html\n",
            "Please also refer to the documentation for alternative solver options:\n",
            "    https://scikit-learn.org/stable/modules/linear_model.html#logistic-regression\n",
            "  n_iter_i = _check_optimize_result(\n"
          ]
        },
        {
          "output_type": "stream",
          "name": "stdout",
          "text": [
            "Logistic Regression Classification Report:\n",
            "               precision    recall  f1-score   support\n",
            "\n",
            "     Class 0       0.60      0.48      0.54    427481\n",
            "     Class 1       0.35      0.31      0.33    214576\n",
            "     Class 2       0.52      0.69      0.59    347935\n",
            "\n",
            "    accuracy                           0.52    989992\n",
            "   macro avg       0.49      0.49      0.49    989992\n",
            "weighted avg       0.52      0.52      0.51    989992\n",
            "\n",
            "\n",
            "Training Decision Tree...\n",
            "Decision Tree Classification Report:\n",
            "               precision    recall  f1-score   support\n",
            "\n",
            "     Class 0       0.99      0.99      0.99    427481\n",
            "     Class 1       0.98      0.98      0.98    214576\n",
            "     Class 2       0.99      0.99      0.99    347935\n",
            "\n",
            "    accuracy                           0.99    989992\n",
            "   macro avg       0.98      0.98      0.98    989992\n",
            "weighted avg       0.99      0.99      0.99    989992\n",
            "\n"
          ]
        }
      ],
      "source": [
        "# Baseline Models\n",
        "baseline_models = {\n",
        "    'Logistic Regression': LogisticRegression(class_weight='balanced', random_state=42),\n",
        "    'Decision Tree': DecisionTreeClassifier(class_weight='balanced', random_state=42)\n",
        "}\n",
        "\n",
        "# Training and evaluation on validation set\n",
        "for name, model in baseline_models.items():\n",
        "    print(f\"\\nTraining {name}...\")\n",
        "    model.fit(x_train, y_train)\n",
        "    y_pred = model.predict(x_val)\n",
        "    print(f\"{name} Classification Report:\\n\", classification_report(y_val, y_pred, target_names=['Class 0', 'Class 1', 'Class 2']))\n"
      ]
    },
    {
      "cell_type": "markdown",
      "metadata": {
        "id": "iW3e9U5HiYAG"
      },
      "source": [
        "### Advanced Models"
      ]
    },
    {
      "cell_type": "code",
      "execution_count": 79,
      "metadata": {
        "colab": {
          "base_uri": "https://localhost:8080/"
        },
        "id": "RlqlM5N1iYAG",
        "outputId": "3a54cb65-7516-4e64-d86b-8decb8c429a2"
      },
      "outputs": [
        {
          "output_type": "stream",
          "name": "stdout",
          "text": [
            "\n",
            "Training Random Forest...\n",
            "Random Forest Classification Report:\n",
            "               precision    recall  f1-score   support\n",
            "\n",
            "     Class 0       0.74      0.94      0.83    427481\n",
            "     Class 1       0.81      0.72      0.76    214576\n",
            "     Class 2       0.97      0.72      0.82    347935\n",
            "\n",
            "    accuracy                           0.81    989992\n",
            "   macro avg       0.84      0.79      0.80    989992\n",
            "weighted avg       0.84      0.81      0.81    989992\n",
            "\n",
            "\n",
            "Training Gradient Boosting...\n",
            "Gradient Boosting Classification Report:\n",
            "               precision    recall  f1-score   support\n",
            "\n",
            "     Class 0       0.76      0.96      0.85    427481\n",
            "     Class 1       0.91      0.66      0.76    214576\n",
            "     Class 2       0.93      0.80      0.86    347935\n",
            "\n",
            "    accuracy                           0.84    989992\n",
            "   macro avg       0.87      0.81      0.83    989992\n",
            "weighted avg       0.86      0.84      0.84    989992\n",
            "\n",
            "\n",
            "Training XGBoost...\n"
          ]
        },
        {
          "output_type": "stream",
          "name": "stderr",
          "text": [
            "/usr/local/lib/python3.11/dist-packages/xgboost/training.py:183: UserWarning: [18:29:53] WARNING: /workspace/src/learner.cc:738: \n",
            "Parameters: { \"predictor\", \"scale_pos_weight\" } are not used.\n",
            "\n",
            "  bst.update(dtrain, iteration=i, fobj=obj)\n"
          ]
        },
        {
          "output_type": "stream",
          "name": "stdout",
          "text": [
            "XGBoost Classification Report:\n",
            "               precision    recall  f1-score   support\n",
            "\n",
            "     Class 0       0.84      0.96      0.90    427481\n",
            "     Class 1       0.93      0.78      0.85    214576\n",
            "     Class 2       0.94      0.87      0.91    347935\n",
            "\n",
            "    accuracy                           0.89    989992\n",
            "   macro avg       0.91      0.87      0.89    989992\n",
            "weighted avg       0.90      0.89      0.89    989992\n",
            "\n",
            "\n",
            "Training LightGBM...\n",
            "[LightGBM] [Info] Auto-choosing col-wise multi-threading, the overhead of testing was 0.203926 seconds.\n",
            "You can set `force_col_wise=true` to remove the overhead.\n",
            "[LightGBM] [Info] Total Bins 3650\n",
            "[LightGBM] [Info] Number of data points in the train set: 1154990, number of used features: 26\n",
            "[LightGBM] [Info] Start training from score -1.098612\n",
            "[LightGBM] [Info] Start training from score -1.098612\n",
            "[LightGBM] [Info] Start training from score -1.098612\n",
            "LightGBM Classification Report:\n",
            "               precision    recall  f1-score   support\n",
            "\n",
            "     Class 0       0.82      0.88      0.85    427481\n",
            "     Class 1       0.72      0.83      0.77    214576\n",
            "     Class 2       0.95      0.78      0.86    347935\n",
            "\n",
            "    accuracy                           0.83    989992\n",
            "   macro avg       0.83      0.83      0.82    989992\n",
            "weighted avg       0.84      0.83      0.83    989992\n",
            "\n"
          ]
        }
      ],
      "source": [
        "# Advanced models with optimized parameters for faster training\n",
        "advanced_models = {\n",
        "    'Random Forest': RandomForestClassifier(\n",
        "        class_weight='balanced', random_state=42,\n",
        "        n_estimators=100, max_depth=10, n_jobs=-1  # Reduced trees and limited depth\n",
        "    ),\n",
        "    'Gradient Boosting': GradientBoostingClassifier(\n",
        "        random_state=42, n_estimators=50, max_depth=5  # Reduced estimators and depth\n",
        "    )\n",
        "}\n",
        "\n",
        "# Add XGBoost\n",
        "try:\n",
        "    advanced_models['XGBoost'] = XGBClassifier(\n",
        "        scale_pos_weight=1, random_state=42,\n",
        "        tree_method='hist',  # Use 'hist' instead of 'gpu_hist' for faster execution\n",
        "        predictor='auto',\n",
        "        n_estimators=50, max_depth=6\n",
        "    )\n",
        "except ImportError:\n",
        "    print(\"XGBoost not installed.\")\n",
        "\n",
        "# Add LightGBM\n",
        "try:\n",
        "    advanced_models['LightGBM'] = LGBMClassifier(\n",
        "        class_weight='balanced', random_state=42,\n",
        "        n_estimators=50, max_depth=6, num_leaves=20, n_jobs=-1  # Reduce estimators and leaf size\n",
        "    )\n",
        "except ImportError:\n",
        "    print(\"LightGBM not installed.\")\n",
        "\n",
        "# Reduce dataset size for training (optional: take only 50% of the data)\n",
        "x_train_sample = x_train.sample(frac=0.5, random_state=42)\n",
        "y_train_sample = y_train.loc[x_train_sample.index]\n",
        "\n",
        "# Training and evaluation for advanced models\n",
        "for name, model in advanced_models.items():\n",
        "    print(f\"\\nTraining {name}...\")\n",
        "    model.fit(x_train_sample, y_train_sample)  # Train on a smaller subset\n",
        "    y_pred = model.predict(x_val)\n",
        "    print(f\"{name} Classification Report:\\n\", classification_report(y_val, y_pred, target_names=['Class 0', 'Class 1', 'Class 2']))\n"
      ]
    },
    {
      "cell_type": "markdown",
      "metadata": {
        "id": "vqmfwkQhiYAH"
      },
      "source": [
        "### Model Selection"
      ]
    },
    {
      "cell_type": "markdown",
      "metadata": {
        "id": "d32lLdkAiYAI"
      },
      "source": [
        "### Baseline Models:\n",
        "\n",
        "## Logistic Regression:\n",
        "Moderate performance with an accuracy of 52%. Struggles with class imbalance, leading to a low macro-F1 score (0.49). Precision and recall vary, making it less effective for this problem.\n",
        "\n",
        "## Decision Tree:\n",
        "Achieves near-perfect accuracy (0.99), indicating strong performance but likely overfitting to the training data.\n",
        "\n",
        "### Advanced Models:\n",
        "\n",
        "#### Random Forest:\n",
        "Performs well with 81% accuracy and balanced precision-recall across classes. However, Class 2 recall (0.72) is lower, indicating some misclassification.\n",
        "\n",
        "#### Gradient Boosting:\n",
        "Improves overall accuracy to 84% with better balance across classes. Class 1 recall (0.66) is lower, but F1-scores are strong.\n",
        "\n",
        "#### XGBoost:\n",
        "Achieves the highest accuracy (89%) with strong precision, recall, and F1-scores. Shows excellent class balance, making it the best performer.\n",
        "\n",
        "#### LightGBM:\n",
        "Performs well with 83% accuracy but struggles with Class 2 recall (0.78). Slightly weaker than XGBoost but still effective."
      ]
    },
    {
      "cell_type": "markdown",
      "metadata": {
        "id": "bXdxKgIsiYAI"
      },
      "source": [
        "Based on these results, we proceed with XGBoost as the final model since it shows the best overall performance.\n",
        "\n",
        "XGBoost achieves the highest macro F1-score (0.89) with balanced precision and recall. However, class imbalance is present, so we apply SMOTE.\n",
        "Using only 20% of the training data for computational efficiency."
      ]
    },
    {
      "cell_type": "code",
      "execution_count": 80,
      "metadata": {
        "id": "LBQrNF_FiYAJ"
      },
      "outputs": [],
      "source": [
        "# Sample 20% of the training data\n",
        "x_train_sample = x_train.sample(frac=0.2, random_state=42)\n",
        "y_train_sample = y_train.loc[x_train_sample.index]"
      ]
    },
    {
      "cell_type": "code",
      "execution_count": 82,
      "metadata": {
        "colab": {
          "base_uri": "https://localhost:8080/"
        },
        "id": "cmoJ0kUgiYAK",
        "outputId": "a24e9f3e-2e70-41be-8c81-5918033c8ea8"
      },
      "outputs": [
        {
          "output_type": "stream",
          "name": "stdout",
          "text": [
            "Original Training Data Size: (2309980, 26)\n",
            "Sampled Training Data Size: (461996, 26)\n"
          ]
        }
      ],
      "source": [
        "# Check the sizes\n",
        "print(\"Original Training Data Size:\", x_train.shape)\n",
        "print(\"Sampled Training Data Size:\", x_train_sample.shape)"
      ]
    },
    {
      "cell_type": "markdown",
      "metadata": {
        "id": "iOx6knsIiYAL"
      },
      "source": [
        "### SMOTE"
      ]
    },
    {
      "cell_type": "code",
      "execution_count": 84,
      "metadata": {
        "id": "OW1NXkvbiYAL"
      },
      "outputs": [],
      "source": [
        "# Applying SMOTE to the training data\n",
        "smote = SMOTE(random_state=42)\n",
        "x_train_smote, y_train_smote = smote.fit_resample(x_train_sample, y_train_sample)"
      ]
    },
    {
      "cell_type": "code",
      "execution_count": 85,
      "metadata": {
        "colab": {
          "base_uri": "https://localhost:8080/"
        },
        "id": "IioNCex4iYAM",
        "outputId": "ceb4b4cb-2577-4d2d-ea61-8e11c6c53828"
      },
      "outputs": [
        {
          "output_type": "stream",
          "name": "stdout",
          "text": [
            "Original class distribution:\n",
            " IncidentGrade\n",
            "0    198775\n",
            "2    162931\n",
            "1    100290\n",
            "Name: count, dtype: int64\n",
            "After SMOTE class distribution:\n",
            " IncidentGrade\n",
            "0    198775\n",
            "2    198775\n",
            "1    198775\n",
            "Name: count, dtype: int64\n"
          ]
        }
      ],
      "source": [
        "# Checking the new class distribution\n",
        "print(\"Original class distribution:\\n\", y_train_sample.value_counts())\n",
        "print(\"After SMOTE class distribution:\\n\", y_train_smote.value_counts())"
      ]
    },
    {
      "cell_type": "markdown",
      "metadata": {
        "id": "kMfllZN3iYAM"
      },
      "source": [
        "### Training XGB model on class balanced data"
      ]
    },
    {
      "cell_type": "code",
      "execution_count": 86,
      "metadata": {
        "colab": {
          "base_uri": "https://localhost:8080/"
        },
        "id": "0a7a3HVbiYAN",
        "outputId": "3991223f-b248-47cc-d6fd-2543a44e26b5"
      },
      "outputs": [
        {
          "output_type": "stream",
          "name": "stderr",
          "text": [
            "/usr/local/lib/python3.11/dist-packages/xgboost/training.py:183: UserWarning: [18:32:45] WARNING: /workspace/src/context.cc:49: No visible GPU is found, setting device to CPU.\n",
            "  bst.update(dtrain, iteration=i, fobj=obj)\n",
            "/usr/local/lib/python3.11/dist-packages/xgboost/training.py:183: UserWarning: [18:32:45] WARNING: /workspace/src/context.cc:203: XGBoost is not compiled with CUDA support.\n",
            "  bst.update(dtrain, iteration=i, fobj=obj)\n"
          ]
        },
        {
          "output_type": "stream",
          "name": "stdout",
          "text": [
            "Validation Set Classification Report (After SMOTE):\n",
            "              precision    recall  f1-score   support\n",
            "\n",
            "     Class 0       0.92      0.92      0.92    427481\n",
            "     Class 1       0.85      0.89      0.87    214576\n",
            "     Class 2       0.94      0.90      0.92    347935\n",
            "\n",
            "    accuracy                           0.91    989992\n",
            "   macro avg       0.90      0.91      0.90    989992\n",
            "weighted avg       0.91      0.91      0.91    989992\n",
            "\n"
          ]
        }
      ],
      "source": [
        "# Training the XGBoost model\n",
        "xgb = XGBClassifier(random_state=42,tree_method='hist',device='cuda')\n",
        "xgb.fit(x_train_smote, y_train_smote)\n",
        "\n",
        "# Prediction on the validation set\n",
        "y_val_pred = xgb.predict(x_val)\n",
        "\n",
        "# Evaluate performance\n",
        "print(\"Validation Set Classification Report (After SMOTE):\")\n",
        "print(classification_report(y_val, y_val_pred, target_names=['Class 0', 'Class 1', 'Class 2']))"
      ]
    },
    {
      "cell_type": "markdown",
      "metadata": {
        "id": "mld9ToiliYAN"
      },
      "source": [
        "### SHAP Analysis for Feature Importance"
      ]
    },
    {
      "cell_type": "code",
      "execution_count": 87,
      "metadata": {
        "id": "ZGpYVCdyiYAO"
      },
      "outputs": [],
      "source": [
        "# Initialize the SHAP explainer\n",
        "explainer = shap.TreeExplainer(xgb)\n",
        "shap_values = explainer.shap_values(x_val)"
      ]
    },
    {
      "cell_type": "code",
      "execution_count": 88,
      "metadata": {
        "colab": {
          "base_uri": "https://localhost:8080/",
          "height": 714
        },
        "id": "pc7VaZVNiYAP",
        "outputId": "917e7f68-a2f2-48b4-d1d8-546d037d64d9"
      },
      "outputs": [
        {
          "output_type": "display_data",
          "data": {
            "text/plain": [
              "<Figure size 640x480 with 0 Axes>"
            ]
          },
          "metadata": {}
        },
        {
          "output_type": "display_data",
          "data": {
            "text/plain": [
              "<Figure size 1150x660 with 1 Axes>"
            ],
            "image/png": "[encoded data removed]"
          },
          "metadata": {}
        }
      ],
      "source": [
        "# Summary plot for feature importance\n",
        "shap.summary_plot(shap_values, x_val, feature_names=x_val.columns)"
      ]
    },
    {
      "cell_type": "code",
      "execution_count": 89,
      "metadata": {
        "id": "nE0JBKFKiYAQ"
      },
      "outputs": [],
      "source": [
        "# Defining top 11 features based on SHAP\n",
        "top_11_features = ['OrgId', 'IncidentId', 'AlertTitle', 'DetectorId',\n",
        "                   'AlertId', 'Category', 'Hour', 'Time', 'Day', 'EntityType', 'City']\n"
      ]
    },
    {
      "cell_type": "code",
      "execution_count": 90,
      "metadata": {
        "id": "2nxO77LliYAQ"
      },
      "outputs": [],
      "source": [
        "# Filter datasets for top 11 features\n",
        "x_train_top11 = x_train_smote[top_11_features]\n",
        "x_val_top11 = x_val[top_11_features]"
      ]
    },
    {
      "cell_type": "code",
      "execution_count": 91,
      "metadata": {
        "id": "ZOF9Hs3fiYAR",
        "colab": {
          "base_uri": "https://localhost:8080/"
        },
        "outputId": "5e6f75bc-1546-443f-9c11-c7b00196956c"
      },
      "outputs": [
        {
          "output_type": "stream",
          "name": "stdout",
          "text": [
            "Shape of training set with top features: (596325, 11)\n",
            "Shape of validation set with top features: (989992, 11)\n"
          ]
        }
      ],
      "source": [
        "# Verify shapes\n",
        "print(\"Shape of training set with top features:\", x_train_top11.shape)\n",
        "print(\"Shape of validation set with top features:\", x_val_top11.shape)"
      ]
    },
    {
      "cell_type": "markdown",
      "metadata": {
        "id": "fHi4NtRciYAS"
      },
      "source": [
        "### Training XGB with only top 11 features"
      ]
    },
    {
      "cell_type": "code",
      "execution_count": 92,
      "metadata": {
        "id": "tHHKwd4SiYAS",
        "colab": {
          "base_uri": "https://localhost:8080/"
        },
        "outputId": "79e6274a-e3f0-4720-a8fe-5641c3119b78"
      },
      "outputs": [
        {
          "output_type": "stream",
          "name": "stderr",
          "text": [
            "/usr/local/lib/python3.11/dist-packages/xgboost/training.py:183: UserWarning: [18:46:14] WARNING: /workspace/src/context.cc:49: No visible GPU is found, setting device to CPU.\n",
            "  bst.update(dtrain, iteration=i, fobj=obj)\n",
            "/usr/local/lib/python3.11/dist-packages/xgboost/training.py:183: UserWarning: [18:46:14] WARNING: /workspace/src/context.cc:203: XGBoost is not compiled with CUDA support.\n",
            "  bst.update(dtrain, iteration=i, fobj=obj)\n"
          ]
        },
        {
          "output_type": "stream",
          "name": "stdout",
          "text": [
            "Validation Set Classification Report (Top 11 Features):\n",
            "              precision    recall  f1-score   support\n",
            "\n",
            "     Class 0       0.92      0.92      0.92    427481\n",
            "     Class 1       0.84      0.90      0.87    214576\n",
            "     Class 2       0.94      0.91      0.92    347935\n",
            "\n",
            "    accuracy                           0.91    989992\n",
            "   macro avg       0.90      0.91      0.91    989992\n",
            "weighted avg       0.91      0.91      0.91    989992\n",
            "\n"
          ]
        }
      ],
      "source": [
        "# Train the XGBoost model with top features\n",
        "xgb_top11 = XGBClassifier(random_state=42,tree_method='hist',device='cuda')\n",
        "xgb_top11.fit(x_train_top11, y_train_smote)\n",
        "\n",
        "# Predict on the validation set\n",
        "y_val_pred_top11 = xgb_top11.predict(x_val_top11)\n",
        "\n",
        "# Evaluate performance\n",
        "\n",
        "print(\"Validation Set Classification Report (Top 11 Features):\")\n",
        "print(classification_report(y_val, y_val_pred_top11, target_names=['Class 0', 'Class 1', 'Class 2']))\n"
      ]
    },
    {
      "cell_type": "markdown",
      "metadata": {
        "id": "i8LQlcoWiYAU"
      },
      "source": [
        "## Hyperparameter Tuning"
      ]
    },
    {
      "cell_type": "code",
      "execution_count": 93,
      "metadata": {
        "id": "86pzBNPviYAU",
        "colab": {
          "base_uri": "https://localhost:8080/"
        },
        "outputId": "01e5db87-06e3-46a0-dd63-808e7c94a0f0"
      },
      "outputs": [
        {
          "output_type": "stream",
          "name": "stdout",
          "text": [
            "Fitting 3 folds for each of 20 candidates, totalling 60 fits\n"
          ]
        },
        {
          "output_type": "stream",
          "name": "stderr",
          "text": [
            "/usr/local/lib/python3.11/dist-packages/xgboost/training.py:183: UserWarning: [18:51:43] WARNING: /workspace/src/context.cc:49: No visible GPU is found, setting device to CPU.\n",
            "  bst.update(dtrain, iteration=i, fobj=obj)\n",
            "/usr/local/lib/python3.11/dist-packages/xgboost/training.py:183: UserWarning: [18:51:43] WARNING: /workspace/src/context.cc:203: XGBoost is not compiled with CUDA support.\n",
            "  bst.update(dtrain, iteration=i, fobj=obj)\n",
            "/usr/local/lib/python3.11/dist-packages/xgboost/training.py:183: UserWarning: [18:51:43] WARNING: /workspace/src/learner.cc:738: \n",
            "Parameters: { \"scale_pos_weight\" } are not used.\n",
            "\n",
            "  bst.update(dtrain, iteration=i, fobj=obj)\n"
          ]
        },
        {
          "output_type": "stream",
          "name": "stdout",
          "text": [
            "Best Parameters: {'subsample': 0.8, 'scale_pos_weight': 2, 'n_estimators': 200, 'max_depth': 7, 'learning_rate': 0.1, 'colsample_bytree': 1.0}\n",
            "Validation Set Classification Report (Tuned Top 11 Features):\n",
            "              precision    recall  f1-score   support\n",
            "\n",
            "     Class 0       0.92      0.92      0.92    427481\n",
            "     Class 1       0.85      0.90      0.87    214576\n",
            "     Class 2       0.95      0.91      0.93    347935\n",
            "\n",
            "    accuracy                           0.91    989992\n",
            "   macro avg       0.90      0.91      0.91    989992\n",
            "weighted avg       0.91      0.91      0.91    989992\n",
            "\n"
          ]
        }
      ],
      "source": [
        "# Define hyperparameter grid\n",
        "param_distributions = {\n",
        "    'max_depth': [3, 5, 7],\n",
        "    'n_estimators': [100, 200],\n",
        "    'learning_rate': [0.01, 0.1, 0.2],\n",
        "    'subsample': [0.8, 1.0],\n",
        "    'colsample_bytree': [0.8, 1.0],\n",
        "    'scale_pos_weight': [1, 2, 3]  # To address class imbalance further\n",
        "}\n",
        "\n",
        "# Randomized search with GPU support\n",
        "random_search_top11 = RandomizedSearchCV(\n",
        "    estimator=XGBClassifier(\n",
        "        random_state=42,\n",
        "        tree_method='hist',  # Enable GPU support\n",
        "        device='cuda'  # Use GPU for predictions\n",
        "    ),\n",
        "    param_distributions=param_distributions,\n",
        "    scoring='f1_macro',  # Scoring metric\n",
        "    cv=3,\n",
        "    n_iter=20,  # Number of random combinations\n",
        "    verbose=1,\n",
        "    n_jobs=-1  # Parallel processing\n",
        ")\n",
        "\n",
        "# Perform hyperparameter tuning\n",
        "random_search_top11.fit(x_train_top11, y_train_smote)\n",
        "\n",
        "# Get the best model\n",
        "best_xgb_top11 = random_search_top11.best_estimator_\n",
        "print(\"Best Parameters:\", random_search_top11.best_params_)\n",
        "\n",
        "# Evaluate on validation set\n",
        "y_val_pred_best_top11 = best_xgb_top11.predict(x_val_top11)\n",
        "print(\"Validation Set Classification Report (Tuned Top 11 Features):\")\n",
        "print(classification_report(y_val, y_val_pred_best_top11, target_names=['Class 0', 'Class 1', 'Class 2']))\n"
      ]
    },
    {
      "cell_type": "markdown",
      "metadata": {
        "id": "QbPlmpKuiYAV"
      },
      "source": [
        "### The hyperparameter tuned model gives best scores. Saving the model."
      ]
    },
    {
      "cell_type": "code",
      "execution_count": 94,
      "metadata": {
        "id": "AJVKWwGriYAW",
        "colab": {
          "base_uri": "https://localhost:8080/"
        },
        "outputId": "5f1351c4-fe97-4a20-dd7d-a867ebeea900"
      },
      "outputs": [
        {
          "output_type": "stream",
          "name": "stdout",
          "text": [
            "Model saved as best_xgboost_Classification_model_SMOTE.pkl\n"
          ]
        }
      ],
      "source": [
        "import joblib\n",
        "\n",
        "# Save the model\n",
        "joblib.dump(best_xgb_top11, 'best_xgboost_Classification_model_SMOTE.pkl')\n",
        "print(\"Model saved as best_xgboost_Classification_model_SMOTE.pkl\")"
      ]
    },
    {
      "cell_type": "markdown",
      "metadata": {
        "id": "ghPQ_2igiYAX"
      },
      "source": [
        "## Final Evaluation on Test Set"
      ]
    },
    {
      "cell_type": "code",
      "execution_count": 96,
      "metadata": {
        "id": "JcIe70y8iYAY",
        "colab": {
          "base_uri": "https://localhost:8080/",
          "height": 226
        },
        "outputId": "2820bb13-e9df-4d2a-87a6-7a70595eb9b4"
      },
      "outputs": [
        {
          "output_type": "execute_result",
          "data": {
            "text/plain": [
              "              Id  OrgId  IncidentId  AlertId  DetectorId  AlertTitle  \\\n",
              "0  1245540519230    657       11767    87199         524         563   \n",
              "1  1400159342154      3       91158   632273           2           2   \n",
              "2  1279900255923    145       32247   131719        2932       10807   \n",
              "3    60129547292    222       15294   917686           0           0   \n",
              "4   515396080539    363        7615     5944          27          18   \n",
              "\n",
              "   Category  IncidentGrade  EntityType  EvidenceRole  IpAddress     Url  \\\n",
              "0        11              0          27             0     360606  160396   \n",
              "1         1              0          14             0     360606  160396   \n",
              "2        11              0          22             1     360606  160396   \n",
              "3        10              1           6             1     360606  160396   \n",
              "4         5              0          27             0     360606  160396   \n",
              "\n",
              "   AccountName  DeviceName  NetworkMessageId  RegistryKey  RegistryValueData  \\\n",
              "0          863      153085            529644         1631                860   \n",
              "1       453297        2833            529644         1631                860   \n",
              "2       453297      153085            529644         1631                860   \n",
              "3       453297      153085            529644         1631                860   \n",
              "4       136104      153085            529644         1631                860   \n",
              "\n",
              "   ApplicationName  OAuthApplicationId  FileName  ResourceIdName  OSVersion  \\\n",
              "0             3421                 881    289573            3586         66   \n",
              "1             3421                 881    289573            3586          0   \n",
              "2             3421                 881        14            3586         66   \n",
              "3             3421                 881    289573            3586         66   \n",
              "4             3421                 881    289573            3586         66   \n",
              "\n",
              "      City  Day  Year  Hour   Time  Weekday  \n",
              "0  10630.0    4  2024    22  82518        1  \n",
              "1  10630.0    3  2024    12  46647        0  \n",
              "2  10630.0    8  2024     3  12037        5  \n",
              "3  10630.0   12  2024    12  43592        2  \n",
              "4  10630.0    6  2024    17  63663        3  "
            ],
            "text/html": [
              "\n",
              "  <div id=\"df-66004097-f2e7-460b-a9db-c26e0e1c5392\" class=\"colab-df-container\">\n",
              "    <div>\n",
              "<style scoped>\n",
              "    .dataframe tbody tr th:only-of-type {\n",
              "        vertical-align: middle;\n",
              "    }\n",
              "\n",
              "    .dataframe tbody tr th {\n",
              "        vertical-align: top;\n",
              "    }\n",
              "\n",
              "    .dataframe thead th {\n",
              "        text-align: right;\n",
              "    }\n",
              "</style>\n",
              "<table border=\"1\" class=\"dataframe\">\n",
              "  <thead>\n",
              "    <tr style=\"text-align: right;\">\n",
              "      <th></th>\n",
              "      <th>Id</th>\n",
              "      <th>OrgId</th>\n",
              "      <th>IncidentId</th>\n",
              "      <th>AlertId</th>\n",
              "      <th>DetectorId</th>\n",
              "      <th>AlertTitle</th>\n",
              "      <th>Category</th>\n",
              "      <th>IncidentGrade</th>\n",
              "      <th>EntityType</th>\n",
              "      <th>EvidenceRole</th>\n",
              "      <th>IpAddress</th>\n",
              "      <th>Url</th>\n",
              "      <th>AccountName</th>\n",
              "      <th>DeviceName</th>\n",
              "      <th>NetworkMessageId</th>\n",
              "      <th>RegistryKey</th>\n",
              "      <th>RegistryValueData</th>\n",
              "      <th>ApplicationName</th>\n",
              "      <th>OAuthApplicationId</th>\n",
              "      <th>FileName</th>\n",
              "      <th>ResourceIdName</th>\n",
              "      <th>OSVersion</th>\n",
              "      <th>City</th>\n",
              "      <th>Day</th>\n",
              "      <th>Year</th>\n",
              "      <th>Hour</th>\n",
              "      <th>Time</th>\n",
              "      <th>Weekday</th>\n",
              "    </tr>\n",
              "  </thead>\n",
              "  <tbody>\n",
              "    <tr>\n",
              "      <th>0</th>\n",
              "      <td>1245540519230</td>\n",
              "      <td>657</td>\n",
              "      <td>11767</td>\n",
              "      <td>87199</td>\n",
              "      <td>524</td>\n",
              "      <td>563</td>\n",
              "      <td>11</td>\n",
              "      <td>0</td>\n",
              "      <td>27</td>\n",
              "      <td>0</td>\n",
              "      <td>360606</td>\n",
              "      <td>160396</td>\n",
              "      <td>863</td>\n",
              "      <td>153085</td>\n",
              "      <td>529644</td>\n",
              "      <td>1631</td>\n",
              "      <td>860</td>\n",
              "      <td>3421</td>\n",
              "      <td>881</td>\n",
              "      <td>289573</td>\n",
              "      <td>3586</td>\n",
              "      <td>66</td>\n",
              "      <td>10630.0</td>\n",
              "      <td>4</td>\n",
              "      <td>2024</td>\n",
              "      <td>22</td>\n",
              "      <td>82518</td>\n",
              "      <td>1</td>\n",
              "    </tr>\n",
              "    <tr>\n",
              "      <th>1</th>\n",
              "      <td>1400159342154</td>\n",
              "      <td>3</td>\n",
              "      <td>91158</td>\n",
              "      <td>632273</td>\n",
              "      <td>2</td>\n",
              "      <td>2</td>\n",
              "      <td>1</td>\n",
              "      <td>0</td>\n",
              "      <td>14</td>\n",
              "      <td>0</td>\n",
              "      <td>360606</td>\n",
              "      <td>160396</td>\n",
              "      <td>453297</td>\n",
              "      <td>2833</td>\n",
              "      <td>529644</td>\n",
              "      <td>1631</td>\n",
              "      <td>860</td>\n",
              "      <td>3421</td>\n",
              "      <td>881</td>\n",
              "      <td>289573</td>\n",
              "      <td>3586</td>\n",
              "      <td>0</td>\n",
              "      <td>10630.0</td>\n",
              "      <td>3</td>\n",
              "      <td>2024</td>\n",
              "      <td>12</td>\n",
              "      <td>46647</td>\n",
              "      <td>0</td>\n",
              "    </tr>\n",
              "    <tr>\n",
              "      <th>2</th>\n",
              "      <td>1279900255923</td>\n",
              "      <td>145</td>\n",
              "      <td>32247</td>\n",
              "      <td>131719</td>\n",
              "      <td>2932</td>\n",
              "      <td>10807</td>\n",
              "      <td>11</td>\n",
              "      <td>0</td>\n",
              "      <td>22</td>\n",
              "      <td>1</td>\n",
              "      <td>360606</td>\n",
              "      <td>160396</td>\n",
              "      <td>453297</td>\n",
              "      <td>153085</td>\n",
              "      <td>529644</td>\n",
              "      <td>1631</td>\n",
              "      <td>860</td>\n",
              "      <td>3421</td>\n",
              "      <td>881</td>\n",
              "      <td>14</td>\n",
              "      <td>3586</td>\n",
              "      <td>66</td>\n",
              "      <td>10630.0</td>\n",
              "      <td>8</td>\n",
              "      <td>2024</td>\n",
              "      <td>3</td>\n",
              "      <td>12037</td>\n",
              "      <td>5</td>\n",
              "    </tr>\n",
              "    <tr>\n",
              "      <th>3</th>\n",
              "      <td>60129547292</td>\n",
              "      <td>222</td>\n",
              "      <td>15294</td>\n",
              "      <td>917686</td>\n",
              "      <td>0</td>\n",
              "      <td>0</td>\n",
              "      <td>10</td>\n",
              "      <td>1</td>\n",
              "      <td>6</td>\n",
              "      <td>1</td>\n",
              "      <td>360606</td>\n",
              "      <td>160396</td>\n",
              "      <td>453297</td>\n",
              "      <td>153085</td>\n",
              "      <td>529644</td>\n",
              "      <td>1631</td>\n",
              "      <td>860</td>\n",
              "      <td>3421</td>\n",
              "      <td>881</td>\n",
              "      <td>289573</td>\n",
              "      <td>3586</td>\n",
              "      <td>66</td>\n",
              "      <td>10630.0</td>\n",
              "      <td>12</td>\n",
              "      <td>2024</td>\n",
              "      <td>12</td>\n",
              "      <td>43592</td>\n",
              "      <td>2</td>\n",
              "    </tr>\n",
              "    <tr>\n",
              "      <th>4</th>\n",
              "      <td>515396080539</td>\n",
              "      <td>363</td>\n",
              "      <td>7615</td>\n",
              "      <td>5944</td>\n",
              "      <td>27</td>\n",
              "      <td>18</td>\n",
              "      <td>5</td>\n",
              "      <td>0</td>\n",
              "      <td>27</td>\n",
              "      <td>0</td>\n",
              "      <td>360606</td>\n",
              "      <td>160396</td>\n",
              "      <td>136104</td>\n",
              "      <td>153085</td>\n",
              "      <td>529644</td>\n",
              "      <td>1631</td>\n",
              "      <td>860</td>\n",
              "      <td>3421</td>\n",
              "      <td>881</td>\n",
              "      <td>289573</td>\n",
              "      <td>3586</td>\n",
              "      <td>66</td>\n",
              "      <td>10630.0</td>\n",
              "      <td>6</td>\n",
              "      <td>2024</td>\n",
              "      <td>17</td>\n",
              "      <td>63663</td>\n",
              "      <td>3</td>\n",
              "    </tr>\n",
              "  </tbody>\n",
              "</table>\n",
              "</div>\n",
              "    <div class=\"colab-df-buttons\">\n",
              "\n",
              "  <div class=\"colab-df-container\">\n",
              "    <button class=\"colab-df-convert\" onclick=\"convertToInteractive('df-66004097-f2e7-460b-a9db-c26e0e1c5392')\"\n",
              "            title=\"Convert this dataframe to an interactive table.\"\n",
              "            style=\"display:none;\">\n",
              "\n",
              "  <svg xmlns=\"http://www.w3.org/2000/svg\" height=\"24px\" viewBox=\"0 -960 960 960\">\n",
              "    <path d=\"M120-120v-720h720v720H120Zm60-500h600v-160H180v160Zm220 220h160v-160H400v160Zm0 220h160v-160H400v160ZM180-400h160v-160H180v160Zm440 0h160v-160H620v160ZM180-180h160v-160H180v160Zm440 0h160v-160H620v160Z\"/>\n",
              "  </svg>\n",
              "    </button>\n",
              "\n",
              "  <style>\n",
              "    .colab-df-container {\n",
              "      display:flex;\n",
              "      gap: 12px;\n",
              "    }\n",
              "\n",
              "    .colab-df-convert {\n",
              "      background-color: #E8F0FE;\n",
              "      border: none;\n",
              "      border-radius: 50%;\n",
              "      cursor: pointer;\n",
              "      display: none;\n",
              "      fill: #1967D2;\n",
              "      height: 32px;\n",
              "      padding: 0 0 0 0;\n",
              "      width: 32px;\n",
              "    }\n",
              "\n",
              "    .colab-df-convert:hover {\n",
              "      background-color: #E2EBFA;\n",
              "      box-shadow: 0px 1px 2px rgba(60, 64, 67, 0.3), 0px 1px 3px 1px rgba(60, 64, 67, 0.15);\n",
              "      fill: #174EA6;\n",
              "    }\n",
              "\n",
              "    .colab-df-buttons div {\n",
              "      margin-bottom: 4px;\n",
              "    }\n",
              "\n",
              "    [theme=dark] .colab-df-convert {\n",
              "      background-color: #3B4455;\n",
              "      fill: #D2E3FC;\n",
              "    }\n",
              "\n",
              "    [theme=dark] .colab-df-convert:hover {\n",
              "      background-color: #434B5C;\n",
              "      box-shadow: 0px 1px 3px 1px rgba(0, 0, 0, 0.15);\n",
              "      filter: drop-shadow(0px 1px 2px rgba(0, 0, 0, 0.3));\n",
              "      fill: #FFFFFF;\n",
              "    }\n",
              "  </style>\n",
              "\n",
              "    <script>\n",
              "      const buttonEl =\n",
              "        document.querySelector('#df-66004097-f2e7-460b-a9db-c26e0e1c5392 button.colab-df-convert');\n",
              "      buttonEl.style.display =\n",
              "        google.colab.kernel.accessAllowed ? 'block' : 'none';\n",
              "\n",
              "      async function convertToInteractive(key) {\n",
              "        const element = document.querySelector('#df-66004097-f2e7-460b-a9db-c26e0e1c5392');\n",
              "        const dataTable =\n",
              "          await google.colab.kernel.invokeFunction('convertToInteractive',\n",
              "                                                    [key], {});\n",
              "        if (!dataTable) return;\n",
              "\n",
              "        const docLinkHtml = 'Like what you see? Visit the ' +\n",
              "          '<a target=\"_blank\" href=https://colab.research.google.com/notebooks/data_table.ipynb>data table notebook</a>'\n",
              "          + ' to learn more about interactive tables.';\n",
              "        element.innerHTML = '';\n",
              "        dataTable['output_type'] = 'display_data';\n",
              "        await google.colab.output.renderOutput(dataTable, element);\n",
              "        const docLink = document.createElement('div');\n",
              "        docLink.innerHTML = docLinkHtml;\n",
              "        element.appendChild(docLink);\n",
              "      }\n",
              "    </script>\n",
              "  </div>\n",
              "\n",
              "\n",
              "<div id=\"df-0c5d8177-3fea-4c97-9174-f6c5ff9e09be\">\n",
              "  <button class=\"colab-df-quickchart\" onclick=\"quickchart('df-0c5d8177-3fea-4c97-9174-f6c5ff9e09be')\"\n",
              "            title=\"Suggest charts\"\n",
              "            style=\"display:none;\">\n",
              "\n",
              "<svg xmlns=\"http://www.w3.org/2000/svg\" height=\"24px\"viewBox=\"0 0 24 24\"\n",
              "     width=\"24px\">\n",
              "    <g>\n",
              "        <path d=\"M19 3H5c-1.1 0-2 .9-2 2v14c0 1.1.9 2 2 2h14c1.1 0 2-.9 2-2V5c0-1.1-.9-2-2-2zM9 17H7v-7h2v7zm4 0h-2V7h2v10zm4 0h-2v-4h2v4z\"/>\n",
              "    </g>\n",
              "</svg>\n",
              "  </button>\n",
              "\n",
              "<style>\n",
              "  .colab-df-quickchart {\n",
              "      --bg-color: #E8F0FE;\n",
              "      --fill-color: #1967D2;\n",
              "      --hover-bg-color: #E2EBFA;\n",
              "      --hover-fill-color: #174EA6;\n",
              "      --disabled-fill-color: #AAA;\n",
              "      --disabled-bg-color: #DDD;\n",
              "  }\n",
              "\n",
              "  [theme=dark] .colab-df-quickchart {\n",
              "      --bg-color: #3B4455;\n",
              "      --fill-color: #D2E3FC;\n",
              "      --hover-bg-color: #434B5C;\n",
              "      --hover-fill-color: #FFFFFF;\n",
              "      --disabled-bg-color: #3B4455;\n",
              "      --disabled-fill-color: #666;\n",
              "  }\n",
              "\n",
              "  .colab-df-quickchart {\n",
              "    background-color: var(--bg-color);\n",
              "    border: none;\n",
              "    border-radius: 50%;\n",
              "    cursor: pointer;\n",
              "    display: none;\n",
              "    fill: var(--fill-color);\n",
              "    height: 32px;\n",
              "    padding: 0;\n",
              "    width: 32px;\n",
              "  }\n",
              "\n",
              "  .colab-df-quickchart:hover {\n",
              "    background-color: var(--hover-bg-color);\n",
              "    box-shadow: 0 1px 2px rgba(60, 64, 67, 0.3), 0 1px 3px 1px rgba(60, 64, 67, 0.15);\n",
              "    fill: var(--button-hover-fill-color);\n",
              "  }\n",
              "\n",
              "  .colab-df-quickchart-complete:disabled,\n",
              "  .colab-df-quickchart-complete:disabled:hover {\n",
              "    background-color: var(--disabled-bg-color);\n",
              "    fill: var(--disabled-fill-color);\n",
              "    box-shadow: none;\n",
              "  }\n",
              "\n",
              "  .colab-df-spinner {\n",
              "    border: 2px solid var(--fill-color);\n",
              "    border-color: transparent;\n",
              "    border-bottom-color: var(--fill-color);\n",
              "    animation:\n",
              "      spin 1s steps(1) infinite;\n",
              "  }\n",
              "\n",
              "  @keyframes spin {\n",
              "    0% {\n",
              "      border-color: transparent;\n",
              "      border-bottom-color: var(--fill-color);\n",
              "      border-left-color: var(--fill-color);\n",
              "    }\n",
              "    20% {\n",
              "      border-color: transparent;\n",
              "      border-left-color: var(--fill-color);\n",
              "      border-top-color: var(--fill-color);\n",
              "    }\n",
              "    30% {\n",
              "      border-color: transparent;\n",
              "      border-left-color: var(--fill-color);\n",
              "      border-top-color: var(--fill-color);\n",
              "      border-right-color: var(--fill-color);\n",
              "    }\n",
              "    40% {\n",
              "      border-color: transparent;\n",
              "      border-right-color: var(--fill-color);\n",
              "      border-top-color: var(--fill-color);\n",
              "    }\n",
              "    60% {\n",
              "      border-color: transparent;\n",
              "      border-right-color: var(--fill-color);\n",
              "    }\n",
              "    80% {\n",
              "      border-color: transparent;\n",
              "      border-right-color: var(--fill-color);\n",
              "      border-bottom-color: var(--fill-color);\n",
              "    }\n",
              "    90% {\n",
              "      border-color: transparent;\n",
              "      border-bottom-color: var(--fill-color);\n",
              "    }\n",
              "  }\n",
              "</style>\n",
              "\n",
              "  <script>\n",
              "    async function quickchart(key) {\n",
              "      const quickchartButtonEl =\n",
              "        document.querySelector('#' + key + ' button');\n",
              "      quickchartButtonEl.disabled = true;  // To prevent multiple clicks.\n",
              "      quickchartButtonEl.classList.add('colab-df-spinner');\n",
              "      try {\n",
              "        const charts = await google.colab.kernel.invokeFunction(\n",
              "            'suggestCharts', [key], {});\n",
              "      } catch (error) {\n",
              "        console.error('Error during call to suggestCharts:', error);\n",
              "      }\n",
              "      quickchartButtonEl.classList.remove('colab-df-spinner');\n",
              "      quickchartButtonEl.classList.add('colab-df-quickchart-complete');\n",
              "    }\n",
              "    (() => {\n",
              "      let quickchartButtonEl =\n",
              "        document.querySelector('#df-0c5d8177-3fea-4c97-9174-f6c5ff9e09be button');\n",
              "      quickchartButtonEl.style.display =\n",
              "        google.colab.kernel.accessAllowed ? 'block' : 'none';\n",
              "    })();\n",
              "  </script>\n",
              "</div>\n",
              "\n",
              "    </div>\n",
              "  </div>\n"
            ],
            "application/vnd.google.colaboratory.intrinsic+json": {
              "type": "dataframe",
              "variable_name": "test_data"
            }
          },
          "metadata": {},
          "execution_count": 96
        }
      ],
      "source": [
        "# Loading test data\n",
        "test_data = pd.read_csv('/content/testdata_processed.xls')\n",
        "test_data.head()"
      ]
    },
    {
      "cell_type": "code",
      "execution_count": 97,
      "metadata": {
        "id": "fkJjuKdAiYAY"
      },
      "outputs": [],
      "source": [
        "# Selecting only top 11 features and setting features and target\n",
        "x_test_top11 = test_data[top_11_features]\n",
        "y_test = test_data['IncidentGrade']"
      ]
    },
    {
      "cell_type": "code",
      "execution_count": 98,
      "metadata": {
        "id": "E5OrsSJciYAZ",
        "colab": {
          "base_uri": "https://localhost:8080/"
        },
        "outputId": "8a5e70b3-83c3-4c3b-e9a1-702340c1f9f3"
      },
      "outputs": [
        {
          "output_type": "stream",
          "name": "stdout",
          "text": [
            "Test Set Classification Report (Top 11 Features):\n",
            "              precision    recall  f1-score   support\n",
            "\n",
            "     Class 0       0.93      0.84      0.88   1357208\n",
            "     Class 1       0.72      0.91      0.81    720247\n",
            "     Class 2       0.94      0.89      0.92   1180244\n",
            "\n",
            "    accuracy                           0.88   3257699\n",
            "   macro avg       0.86      0.88      0.87   3257699\n",
            "weighted avg       0.89      0.88      0.88   3257699\n",
            "\n"
          ]
        }
      ],
      "source": [
        "# Predicting on the test set using the best model\n",
        "y_test_pred_top11 = best_xgb_top11.predict(x_test_top11)\n",
        "\n",
        "# Evaluate performance on test data\n",
        "print(\"Test Set Classification Report (Top 11 Features):\")\n",
        "print(classification_report(y_test, y_test_pred_top11, target_names=['Class 0', 'Class 1', 'Class 2']))"
      ]
    },
    {
      "cell_type": "markdown",
      "metadata": {
        "id": "ED9qY58yiYAa"
      },
      "source": [
        "# Without Using Smote"
      ]
    },
    {
      "cell_type": "code",
      "execution_count": 100,
      "metadata": {
        "id": "gpmLxGItiYAa",
        "colab": {
          "base_uri": "https://localhost:8080/"
        },
        "outputId": "962f6198-2201-4be0-eda1-a17b30f1b342"
      },
      "outputs": [
        {
          "output_type": "stream",
          "name": "stderr",
          "text": [
            "/usr/local/lib/python3.11/dist-packages/xgboost/training.py:183: UserWarning: [18:53:28] WARNING: /workspace/src/context.cc:49: No visible GPU is found, setting device to CPU.\n",
            "  bst.update(dtrain, iteration=i, fobj=obj)\n",
            "/usr/local/lib/python3.11/dist-packages/xgboost/training.py:183: UserWarning: [18:53:28] WARNING: /workspace/src/context.cc:203: XGBoost is not compiled with CUDA support.\n",
            "  bst.update(dtrain, iteration=i, fobj=obj)\n"
          ]
        },
        {
          "output_type": "stream",
          "name": "stdout",
          "text": [
            "Validation Set Classification Report without smote:\n",
            "              precision    recall  f1-score   support\n",
            "\n",
            "     Class 0       0.89      0.96      0.92    427481\n",
            "     Class 1       0.93      0.85      0.89    214576\n",
            "     Class 2       0.94      0.91      0.93    347935\n",
            "\n",
            "    accuracy                           0.92    989992\n",
            "   macro avg       0.92      0.90      0.91    989992\n",
            "weighted avg       0.92      0.92      0.92    989992\n",
            "\n"
          ]
        }
      ],
      "source": [
        "# Train the XGBoost model\n",
        "xgb = XGBClassifier(random_state=42,tree_method='hist',device='cuda')\n",
        "xgb.fit(x_train_sample, y_train_sample)\n",
        "\n",
        "# Predict on the validation set\n",
        "y_val_pred = xgb.predict(x_val)\n",
        "\n",
        "# Evaluate performance\n",
        "print(\"Validation Set Classification Report without smote:\")\n",
        "print(classification_report(y_val, y_val_pred, target_names=['Class 0', 'Class 1', 'Class 2']))"
      ]
    },
    {
      "cell_type": "code",
      "execution_count": 101,
      "metadata": {
        "id": "fDaiOPFjiYAb",
        "colab": {
          "base_uri": "https://localhost:8080/"
        },
        "outputId": "be0a2068-accc-4033-eade-05b0733717cb"
      },
      "outputs": [
        {
          "output_type": "stream",
          "name": "stdout",
          "text": [
            "Shape of training set with top features: (461996, 11)\n",
            "Shape of validation set with top features: (989992, 11)\n"
          ]
        }
      ],
      "source": [
        "# Define top 11 features based on SHAP\n",
        "top_11_features = ['OrgId', 'IncidentId', 'AlertTitle', 'DetectorId',\n",
        "                   'AlertId', 'Category', 'Hour', 'Time', 'Day', 'EntityType', 'City']\n",
        "\n",
        "# Filter datasets for top 11 features\n",
        "x_train_sample_top11 = x_train_sample[top_11_features]\n",
        "x_val_top11 = x_val[top_11_features]\n",
        "\n",
        "# Verify shapes\n",
        "print(\"Shape of training set with top features:\", x_train_sample_top11.shape)\n",
        "print(\"Shape of validation set with top features:\", x_val_top11.shape)"
      ]
    },
    {
      "cell_type": "markdown",
      "metadata": {
        "id": "fOLaCetoiYAc"
      },
      "source": [
        "### Training XGB with only top 11 features on original dataset"
      ]
    },
    {
      "cell_type": "code",
      "execution_count": 102,
      "metadata": {
        "id": "DowmI5IniYAd",
        "colab": {
          "base_uri": "https://localhost:8080/"
        },
        "outputId": "31e8fced-54ee-4e7c-8e8b-5ecc357c3556"
      },
      "outputs": [
        {
          "output_type": "stream",
          "name": "stderr",
          "text": [
            "/usr/local/lib/python3.11/dist-packages/xgboost/training.py:183: UserWarning: [18:53:35] WARNING: /workspace/src/context.cc:49: No visible GPU is found, setting device to CPU.\n",
            "  bst.update(dtrain, iteration=i, fobj=obj)\n",
            "/usr/local/lib/python3.11/dist-packages/xgboost/training.py:183: UserWarning: [18:53:35] WARNING: /workspace/src/context.cc:203: XGBoost is not compiled with CUDA support.\n",
            "  bst.update(dtrain, iteration=i, fobj=obj)\n"
          ]
        },
        {
          "output_type": "stream",
          "name": "stdout",
          "text": [
            "Validation Set Classification Report (Top 11 Features):\n",
            "              precision    recall  f1-score   support\n",
            "\n",
            "     Class 0       0.89      0.96      0.93    427481\n",
            "     Class 1       0.93      0.85      0.89    214576\n",
            "     Class 2       0.95      0.91      0.93    347935\n",
            "\n",
            "    accuracy                           0.92    989992\n",
            "   macro avg       0.92      0.91      0.92    989992\n",
            "weighted avg       0.92      0.92      0.92    989992\n",
            "\n"
          ]
        }
      ],
      "source": [
        "# Train the XGBoost model with top features\n",
        "xgb_top11 = XGBClassifier(random_state=42,tree_method='hist',device='cuda')\n",
        "xgb_top11.fit(x_train_sample_top11, y_train_sample)\n",
        "\n",
        "# Predict on the validation set\n",
        "y_val_pred_top11 = xgb_top11.predict(x_val_top11)\n",
        "\n",
        "# Evaluate performance\n",
        "\n",
        "print(\"Validation Set Classification Report (Top 11 Features):\")\n",
        "print(classification_report(y_val, y_val_pred_top11, target_names=['Class 0', 'Class 1', 'Class 2']))"
      ]
    },
    {
      "cell_type": "markdown",
      "metadata": {
        "id": "t68_DGOiiYAd"
      },
      "source": [
        "### Hyperparameter Tuning"
      ]
    },
    {
      "cell_type": "code",
      "execution_count": 103,
      "metadata": {
        "id": "NVhqPzUMiYAe",
        "colab": {
          "base_uri": "https://localhost:8080/"
        },
        "outputId": "fa6bea7c-22eb-4240-b37b-db22a4c7696c"
      },
      "outputs": [
        {
          "output_type": "stream",
          "name": "stdout",
          "text": [
            "Fitting 3 folds for each of 20 candidates, totalling 60 fits\n"
          ]
        },
        {
          "output_type": "stream",
          "name": "stderr",
          "text": [
            "/usr/local/lib/python3.11/dist-packages/xgboost/training.py:183: UserWarning: [18:57:50] WARNING: /workspace/src/context.cc:49: No visible GPU is found, setting device to CPU.\n",
            "  bst.update(dtrain, iteration=i, fobj=obj)\n",
            "/usr/local/lib/python3.11/dist-packages/xgboost/training.py:183: UserWarning: [18:57:50] WARNING: /workspace/src/context.cc:203: XGBoost is not compiled with CUDA support.\n",
            "  bst.update(dtrain, iteration=i, fobj=obj)\n",
            "/usr/local/lib/python3.11/dist-packages/xgboost/training.py:183: UserWarning: [18:57:50] WARNING: /workspace/src/learner.cc:738: \n",
            "Parameters: { \"scale_pos_weight\" } are not used.\n",
            "\n",
            "  bst.update(dtrain, iteration=i, fobj=obj)\n"
          ]
        },
        {
          "output_type": "stream",
          "name": "stdout",
          "text": [
            "Best Parameters: {'subsample': 1.0, 'scale_pos_weight': 3, 'n_estimators': 200, 'max_depth': 7, 'learning_rate': 0.2, 'colsample_bytree': 1.0}\n",
            "Validation Set Classification Report (Tuned Top 11 Features):\n",
            "              precision    recall  f1-score   support\n",
            "\n",
            "     Class 0       0.93      0.96      0.95    427481\n",
            "     Class 1       0.94      0.90      0.92    214576\n",
            "     Class 2       0.96      0.94      0.95    347935\n",
            "\n",
            "    accuracy                           0.94    989992\n",
            "   macro avg       0.94      0.93      0.94    989992\n",
            "weighted avg       0.94      0.94      0.94    989992\n",
            "\n"
          ]
        }
      ],
      "source": [
        "# Define hyperparameter grid\n",
        "param_distributions = {\n",
        "    'max_depth': [3, 5, 7],\n",
        "    'n_estimators': [100, 200, 300],\n",
        "    'learning_rate': [0.01, 0.1, 0.2],\n",
        "    'subsample': [0.8, 1.0],\n",
        "    'colsample_bytree': [0.8, 1.0],\n",
        "    'scale_pos_weight': [1, 2, 3]  # To address class imbalance further\n",
        "}\n",
        "\n",
        "# Randomized search\n",
        "random_search_top11 = RandomizedSearchCV(\n",
        "    estimator=XGBClassifier(random_state=42,\n",
        "                            tree_method='hist',  # Enable GPU support\n",
        "                            device='cuda'  # Use GPU for predictions\n",
        "                           ),\n",
        "    param_distributions=param_distributions,\n",
        "    scoring='f1_macro',\n",
        "    cv=3,\n",
        "    n_iter=20,  # Number of random combinations\n",
        "    verbose=1,\n",
        "    n_jobs=-1\n",
        ")\n",
        "\n",
        "# Perform hyperparameter tuning\n",
        "random_search_top11.fit(x_train_sample_top11, y_train_sample)\n",
        "\n",
        "# Get the best model\n",
        "best_xgb_top11 = random_search_top11.best_estimator_\n",
        "print(\"Best Parameters:\", random_search_top11.best_params_)\n",
        "\n",
        "# Evaluate on validation set\n",
        "y_val_pred_best_top11 = best_xgb_top11.predict(x_val_top11)\n",
        "print(\"Validation Set Classification Report (Tuned Top 11 Features):\")\n",
        "print(classification_report(y_val, y_val_pred_best_top11, target_names=['Class 0', 'Class 1', 'Class 2']))"
      ]
    },
    {
      "cell_type": "code",
      "execution_count": 104,
      "metadata": {
        "id": "EQaQNesAiYAf",
        "colab": {
          "base_uri": "https://localhost:8080/"
        },
        "outputId": "d78b10d4-f010-4018-cc89-4381c2acf94c"
      },
      "outputs": [
        {
          "output_type": "stream",
          "name": "stdout",
          "text": [
            "Model saved as best_XGB_Classification_model_without_SMOTE.pkl\n"
          ]
        }
      ],
      "source": [
        "import joblib\n",
        "\n",
        "# Save the model\n",
        "joblib.dump(best_xgb_top11, 'best_XGB_Classification_model_without_SMOTE.pkl')\n",
        "print(\"Model saved as best_XGB_Classification_model_without_SMOTE.pkl\")"
      ]
    },
    {
      "cell_type": "markdown",
      "metadata": {
        "id": "efHaVEE8iYAg"
      },
      "source": [
        "## Final Evaluation on Test Set"
      ]
    },
    {
      "cell_type": "code",
      "execution_count": 105,
      "metadata": {
        "id": "CWcbpjkviYAg",
        "colab": {
          "base_uri": "https://localhost:8080/"
        },
        "outputId": "1d11a617-1e8e-4ec2-fae6-c02defe56766"
      },
      "outputs": [
        {
          "output_type": "stream",
          "name": "stdout",
          "text": [
            "Test Set Classification Report (Top 11 Features):\n",
            "              precision    recall  f1-score   support\n",
            "\n",
            "     Class 0       0.90      0.93      0.91   1357208\n",
            "     Class 1       0.89      0.86      0.87    720247\n",
            "     Class 2       0.93      0.92      0.93   1180244\n",
            "\n",
            "    accuracy                           0.91   3257699\n",
            "   macro avg       0.91      0.90      0.91   3257699\n",
            "weighted avg       0.91      0.91      0.91   3257699\n",
            "\n"
          ]
        }
      ],
      "source": [
        "# Predict on the test set\n",
        "y_test_pred_top11 = best_xgb_top11.predict(x_test_top11)\n",
        "\n",
        "# Evaluate performance on test data\n",
        "print(\"Test Set Classification Report (Top 11 Features):\")\n",
        "print(classification_report(y_test, y_test_pred_top11, target_names=['Class 0', 'Class 1', 'Class 2']))"
      ]
    }
  ],
  "metadata": {
    "accelerator": "TPU",
    "colab": {
      "gpuType": "V28",
      "provenance": []
    },
    "kernelspec": {
      "display_name": "Python 3",
      "name": "python3"
    },
    "language_info": {
      "codemirror_mode": {
        "name": "ipython",
        "version": 3
      },
      "file_extension": ".py",
      "mimetype": "text/x-python",
      "name": "python",
      "nbconvert_exporter": "python",
      "pygments_lexer": "ipython3",
      "version": "3.8.5"
    }
  },
  "nbformat": 4,
  "nbformat_minor": 0
}